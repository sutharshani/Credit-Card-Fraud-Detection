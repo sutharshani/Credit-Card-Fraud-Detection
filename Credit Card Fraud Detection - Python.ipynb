{
 "cells": [
  {
   "cell_type": "markdown",
   "metadata": {},
   "source": [
    "# <center>Term Project</center><br><center>Credit Card Fraud Detection</center>\n",
    "\n",
    "<center><b>Predictive Analytics</b><br>By<br></center>\n",
    "\n",
    "\n",
    "\n",
    "<center><b>Shani Kumar<br> Yalamanchilli ChandraMoulli</b></center>\n",
    "\n",
    "\n",
    "### Introduction:\n",
    "\n",
    "<b>Project Assignment: Credit Card Fraud Detection</b>\n",
    "Increasing fraud in the industry makes fraud prediction very critical to be able to identify and stop fraud in real time, and data science plays a significant role in analyzing and being able to predict fraud based on transactional and cardholder information. The scope of this project is to research and identify different types of predictive analysis algorithms available that can be applied to determine and stop fraudulent transactions.\n",
    "\n",
    "<b>Data source</b> We are using dataset from Kaggle.com - creditcard.csv file.\n",
    "\n",
    "<b>Backgroud of Dataset</b> This dataset presents transactions that occurred in two days, where we have 492 frauds out of 284,807 transactions. The dataset is highly unbalanced, the positive class (frauds) account for 0.172% of all transactions.\n",
    "\n",
    "It contains only numerical input variables which are the result of a PCA transformation. Unfortunately, due to confidentiality issues, owner of the dataset did not provide the original features and more background information about the data. Features V1, V2, … V28 are the principal components obtained with PCA, the only features which have not been transformed with PCA are ‘Time’ and ‘Amount’. Feature ‘Time’ contains the seconds elapsed between each transaction and the first transaction in the dataset. The feature ‘Amount’ is the transaction Amount, this feature can be used for example-dependent cost-sensitive learning. Feature ‘Class’ is the response variable and it takes value 1 in case of fraud and 0 otherwise.\n",
    "\n",
    "\n",
    "\n",
    "### Source Data\n",
    "\n",
    "https://www.kaggle.com/mlg-ulb/creditcardfraud\n",
    "\n",
    "**creditcard.csv** - Transaction Data\n"
   ]
  },
  {
   "cell_type": "code",
   "execution_count": 2,
   "metadata": {},
   "outputs": [],
   "source": [
    "import pandas as pd\n",
    "import pandas_profiling as pp\n",
    "import matplotlib.pyplot as plt\n",
    "import seaborn as sns\n",
    "import numpy as np\n",
    "from collections import Counter\n",
    "import warnings\n",
    "from datetime import datetime\n",
    "from sklearn import svm\n",
    "from sklearn.model_selection import cross_val_score\n",
    "from sklearn.model_selection import train_test_split\n",
    "from sklearn.pipeline import Pipeline\n",
    "from sklearn.pipeline import make_pipeline\n",
    "from sklearn import preprocessing\n",
    "from sklearn.preprocessing import StandardScaler\n",
    "from sklearn.naive_bayes import GaussianNB\n",
    "from sklearn.tree import DecisionTreeClassifier\n",
    "from sklearn.ensemble import BaggingClassifier\n",
    "from sklearn.linear_model import LogisticRegression\n",
    "from sklearn.neighbors import KNeighborsClassifier\n",
    "from sklearn.ensemble import RandomForestClassifier\n",
    "from sklearn.ensemble import ExtraTreesClassifier\n",
    "from sklearn.model_selection import RepeatedStratifiedKFold\n",
    "from sklearn.metrics import roc_auc_score\n",
    "from sklearn.metrics import classification_report, confusion_matrix\n",
    "from sklearn.metrics import precision_recall_curve\n",
    "from sklearn.metrics import auc\n",
    "from sklearn.metrics import make_scorer\n",
    "from sklearn.dummy import DummyClassifier\n",
    "\n",
    "# configure display of graph\n",
    "%matplotlib inline\n",
    "\n",
    "#stop unnecessary warnings from printing to the screen\n",
    "warnings.simplefilter('ignore')"
   ]
  },
  {
   "cell_type": "markdown",
   "metadata": {},
   "source": [
    "### Load data into a dataframe"
   ]
  },
  {
   "cell_type": "code",
   "execution_count": 3,
   "metadata": {},
   "outputs": [
    {
     "name": "stdout",
     "output_type": "stream",
     "text": [
      "(284807, 31)\n",
      "Class=0, Count=284315, Percentage=99.827%\n",
      "Class=1, Count=492, Percentage=0.173%\n"
     ]
    }
   ],
   "source": [
    "# load the csv file as a data frame\n",
    "trn = pd.read_csv('data/creditcard.csv')\n",
    "# summarize the shape of the dataset\n",
    "print(trn.shape)\n",
    "# summarize the class distribution\n",
    "target = trn.values[:,-1]\n",
    "counter = Counter(target)\n",
    "for k,v in counter.items():\n",
    "    per = v / len(target) * 100\n",
    "    print('Class=%d, Count=%d, Percentage=%.3f%%' % (k, v, per))"
   ]
  },
  {
   "cell_type": "markdown",
   "metadata": {},
   "source": [
    "### Observations based on exploratory analysis done in R and Python\n",
    "1. Transaction distribution follows normal distribution which we usually expect. Mostly transaction happens during the day time. Mostly in the morning time after most stores opens and after mostly after noon time. As the day end transaction count start reducing.\n",
    "1. Most of the transactions are low amount transactions (less then 50$) so we can expect most fraud in this range because high amount transactions people do notice easily.\n",
    "1. Fraudulent transactions are very less in count but thats where we want to exploit and identify fraud transaction characterstics so that we can avoid them by recognizing them before approving.\n",
    "1. The class distribution is confirming the severe skew in distribution, with about 99.827 percent of transactions marked as normal and about 0.173 percent marked as fraudulent. "
   ]
  },
  {
   "cell_type": "markdown",
   "metadata": {},
   "source": [
    "## Modeling"
   ]
  },
  {
   "cell_type": "code",
   "execution_count": 5,
   "metadata": {},
   "outputs": [],
   "source": [
    "# split inpit and output features\n",
    "data = trn.values\n",
    "data_X, data_Y = data[:, :-1], data[:, -1]"
   ]
  },
  {
   "cell_type": "markdown",
   "metadata": {},
   "source": [
    "## Modeling after oversampling the data using SMOTE method"
   ]
  },
  {
   "cell_type": "code",
   "execution_count": 6,
   "metadata": {},
   "outputs": [],
   "source": [
    "from imblearn.over_sampling import SMOTE\n",
    "\n",
    "# Define resampling method and split into train and test\n",
    "method = SMOTE()\n",
    "X_train, X_test, y_train, y_test = train_test_split(data_X, data_Y, train_size=0.6, random_state=0)\n",
    "\n",
    "# Apply resampling to the training data only\n",
    "X_resampled, y_resampled = method.fit_sample(X_train, y_train)"
   ]
  },
  {
   "cell_type": "code",
   "execution_count": 7,
   "metadata": {},
   "outputs": [],
   "source": [
    "# calculate precision-recall area under curve\n",
    "def pr_auc(y_true, probas_pred):\n",
    "    # calculate precision-recall curve\n",
    "    p, r, _ = precision_recall_curve(y_true, probas_pred)\n",
    "    # calculate area under curve\n",
    "    return auc(r, p)\n",
    " \n",
    "# evaluate a model\n",
    "def evaluate_model(X, y, model):\n",
    "    # define evaluation procedure\n",
    "    cv = RepeatedStratifiedKFold(n_splits=10, n_repeats=3, random_state=1)\n",
    "    # define the model evaluation the metric\n",
    "    metric = make_scorer(pr_auc, needs_proba=True)\n",
    "    # evaluate model\n",
    "    scores = cross_val_score(model, X, y, scoring=metric, cv=cv, n_jobs=-1)\n",
    "    return scores\n",
    " \n",
    "# define models to test\n",
    "def get_models():\n",
    "    models, names = list(), list()\n",
    "    # DTREE\n",
    "    models.append(DecisionTreeClassifier())\n",
    "    names.append('DTREE')\n",
    "    # KNN\n",
    "    steps = [('s',StandardScaler()),('m',KNeighborsClassifier())]\n",
    "    models.append(Pipeline(steps=steps))\n",
    "    names.append('KNN')\n",
    "    # RF\n",
    "    models.append(RandomForestClassifier(n_estimators=100))\n",
    "    names.append('RF')\n",
    "    # ET\n",
    "    models.append(ExtraTreesClassifier(n_estimators=100))\n",
    "    names.append('ET')\n",
    "    # Bagging\n",
    "    models.append(BaggingClassifier(n_estimators=100))\n",
    "    names.append('BAG')\n",
    "    return models, names"
   ]
  },
  {
   "cell_type": "code",
   "execution_count": 45,
   "metadata": {},
   "outputs": [
    {
     "name": "stdout",
     "output_type": "stream",
     "text": [
      ">DTREE 0.999 (0.000)\n"
     ]
    }
   ],
   "source": [
    "# define models\n",
    "models, names = get_models()\n",
    "results = list()\n",
    "\n",
    "i=0\n",
    "\n",
    "# evaluate the model and store results\n",
    "scores = evaluate_model(X_resampled, y_resampled, models[i])\n",
    "results.append(scores)\n",
    "\n",
    "# summarize performance\n",
    "print('>%s %.3f (%.3f)' % (names[i], np.mean(scores), np.std(scores)))"
   ]
  },
  {
   "cell_type": "code",
   "execution_count": 47,
   "metadata": {},
   "outputs": [
    {
     "name": "stdout",
     "output_type": "stream",
     "text": [
      ">KNN 1.000 (0.000)\n"
     ]
    }
   ],
   "source": [
    "i=1\n",
    "\n",
    "# evaluate the model and store results\n",
    "scores = evaluate_model(X_resampled, y_resampled, models[i])\n",
    "results.append(scores)\n",
    "\n",
    "# summarize performance\n",
    "print('>%s %.3f (%.3f)' % (names[i], np.mean(scores), np.std(scores)))"
   ]
  },
  {
   "cell_type": "code",
   "execution_count": 48,
   "metadata": {},
   "outputs": [
    {
     "name": "stdout",
     "output_type": "stream",
     "text": [
      ">RF 1.000 (0.000)\n"
     ]
    }
   ],
   "source": [
    "i=2\n",
    "\n",
    "# evaluate the model and store results\n",
    "scores = evaluate_model(X_resampled, y_resampled, models[i])\n",
    "results.append(scores)\n",
    "\n",
    "# summarize performance\n",
    "print('>%s %.3f (%.3f)' % (names[i], np.mean(scores), np.std(scores)))"
   ]
  },
  {
   "cell_type": "code",
   "execution_count": 49,
   "metadata": {},
   "outputs": [
    {
     "name": "stdout",
     "output_type": "stream",
     "text": [
      ">ET 1.000 (0.000)\n"
     ]
    }
   ],
   "source": [
    "i=3\n",
    "\n",
    "# evaluate the model and store results\n",
    "scores = evaluate_model(X_resampled, y_resampled, models[i])\n",
    "results.append(scores)\n",
    "\n",
    "# summarize performance\n",
    "print('>%s %.3f (%.3f)' % (names[i], np.mean(scores), np.std(scores)))"
   ]
  },
  {
   "cell_type": "code",
   "execution_count": 50,
   "metadata": {},
   "outputs": [
    {
     "name": "stdout",
     "output_type": "stream",
     "text": [
      ">BAG 1.000 (0.000)\n"
     ]
    }
   ],
   "source": [
    "i=4\n",
    "\n",
    "# evaluate the model and store results\n",
    "scores = evaluate_model(X_resampled, y_resampled, models[i])\n",
    "results.append(scores)\n",
    "\n",
    "# summarize performance\n",
    "print('>%s %.3f (%.3f)' % (names[i], np.mean(scores), np.std(scores)))"
   ]
  },
  {
   "cell_type": "code",
   "execution_count": 52,
   "metadata": {},
   "outputs": [
    {
     "data": {
      "image/png": "[encoded data removed]",
      "text/plain": [
       "<Figure size 432x288 with 1 Axes>"
      ]
     },
     "metadata": {
      "needs_background": "light"
     },
     "output_type": "display_data"
    }
   ],
   "source": [
    "# plot the results\n",
    "plt.boxplot(results, labels=names, showmeans=True)\n",
    "plt.show()"
   ]
  },
  {
   "cell_type": "markdown",
   "metadata": {},
   "source": [
    "### Perform Prediction and evaluate result"
   ]
  },
  {
   "cell_type": "code",
   "execution_count": 69,
   "metadata": {},
   "outputs": [
    {
     "name": "stdout",
     "output_type": "stream",
     "text": [
      "ROC Score:\n",
      "0.8911200466120125\n",
      "\n",
      "Classification Report:\n",
      "              precision    recall  f1-score   support\n",
      "\n",
      "         0.0       1.00      1.00      1.00    113724\n",
      "         1.0       0.45      0.78      0.57       199\n",
      "\n",
      "    accuracy                           1.00    113923\n",
      "   macro avg       0.72      0.89      0.79    113923\n",
      "weighted avg       1.00      1.00      1.00    113923\n",
      "\n",
      "\n",
      "Confusion Matrix:\n",
      "[[113533    191]\n",
      " [    43    156]]\n"
     ]
    }
   ],
   "source": [
    "model_DT = DecisionTreeClassifier()\n",
    "model_DT.fit(X_resampled, y_resampled)\n",
    "\n",
    "# Obtain the predictions from our random forest model \n",
    "predicted = model_DT.predict(X_test)\n",
    "\n",
    "# Predict probabilities\n",
    "probs = model_DT.predict_proba(X_test)\n",
    "\n",
    "# Print the ROC curve, classification report and confusion matrix\n",
    "print('ROC Score:')\n",
    "print(roc_auc_score(y_test, probs[:,1]))\n",
    "print('\\nClassification Report:')\n",
    "print(classification_report(y_test, predicted))\n",
    "print('\\nConfusion Matrix:')\n",
    "print(confusion_matrix(y_test, predicted))"
   ]
  },
  {
   "cell_type": "code",
   "execution_count": 70,
   "metadata": {},
   "outputs": [
    {
     "name": "stdout",
     "output_type": "stream",
     "text": [
      "ROC Score:\n",
      "0.9041518397092563\n",
      "\n",
      "Classification Report:\n",
      "              precision    recall  f1-score   support\n",
      "\n",
      "         0.0       1.00      1.00      1.00    113724\n",
      "         1.0       0.55      0.80      0.65       199\n",
      "\n",
      "    accuracy                           1.00    113923\n",
      "   macro avg       0.78      0.90      0.83    113923\n",
      "weighted avg       1.00      1.00      1.00    113923\n",
      "\n",
      "\n",
      "Confusion Matrix:\n",
      "[[113595    129]\n",
      " [    40    159]]\n"
     ]
    }
   ],
   "source": [
    "# define model to evaluate\n",
    "model = KNeighborsClassifier()\n",
    "# scale, then fit model\n",
    "pipeline = Pipeline(steps=[('s',StandardScaler()), ('m',model)])\n",
    "\n",
    "pipeline.fit(X_resampled, y_resampled)\n",
    "\n",
    "# Obtain the predictions from our random forest model \n",
    "predicted = pipeline.predict(X_test)\n",
    "\n",
    "# Predict probabilities\n",
    "probs = pipeline.predict_proba(X_test)\n",
    "\n",
    "# Print the ROC curve, classification report and confusion matrix\n",
    "print('ROC Score:')\n",
    "print(roc_auc_score(y_test, probs[:,1]))\n",
    "print('\\nClassification Report:')\n",
    "print(classification_report(y_test, predicted))\n",
    "print('\\nConfusion Matrix:')\n",
    "print(confusion_matrix(y_test, predicted))"
   ]
  },
  {
   "cell_type": "code",
   "execution_count": 72,
   "metadata": {},
   "outputs": [
    {
     "name": "stdout",
     "output_type": "stream",
     "text": [
      "ROC Score:\n",
      "0.94364532203418\n",
      "\n",
      "Classification Report:\n",
      "              precision    recall  f1-score   support\n",
      "\n",
      "         0.0       1.00      1.00      1.00    113724\n",
      "         1.0       0.75      0.81      0.78       199\n",
      "\n",
      "    accuracy                           1.00    113923\n",
      "   macro avg       0.87      0.90      0.89    113923\n",
      "weighted avg       1.00      1.00      1.00    113923\n",
      "\n",
      "\n",
      "Confusion Matrix:\n",
      "[[113669     55]\n",
      " [    38    161]]\n"
     ]
    }
   ],
   "source": [
    "model_BC = BaggingClassifier(n_estimators=100)\n",
    "model_BC.fit(X_resampled, y_resampled)\n",
    "\n",
    "# Obtain the predictions from our random forest model \n",
    "predicted = model_BC.predict(X_test)\n",
    "\n",
    "# Predict probabilities\n",
    "probs = model_BC.predict_proba(X_test)\n",
    "\n",
    "# Print the ROC curve, classification report and confusion matrix\n",
    "print('ROC Score:')\n",
    "print(roc_auc_score(y_test, probs[:,1]))\n",
    "print('\\nClassification Report:')\n",
    "print(classification_report(y_test, predicted))\n",
    "print('\\nConfusion Matrix:')\n",
    "print(confusion_matrix(y_test, predicted))"
   ]
  },
  {
   "cell_type": "code",
   "execution_count": 73,
   "metadata": {},
   "outputs": [
    {
     "name": "stdout",
     "output_type": "stream",
     "text": [
      "ROC Score:\n",
      "0.9582566909324153\n",
      "\n",
      "Classification Report:\n",
      "              precision    recall  f1-score   support\n",
      "\n",
      "         0.0       1.00      1.00      1.00    113724\n",
      "         1.0       0.88      0.82      0.85       199\n",
      "\n",
      "    accuracy                           1.00    113923\n",
      "   macro avg       0.94      0.91      0.92    113923\n",
      "weighted avg       1.00      1.00      1.00    113923\n",
      "\n",
      "\n",
      "Confusion Matrix:\n",
      "[[113701     23]\n",
      " [    35    164]]\n"
     ]
    }
   ],
   "source": [
    "model_RFC = RandomForestClassifier(n_estimators=100)\n",
    "model_RFC.fit(X_resampled, y_resampled)\n",
    "\n",
    "# Obtain the predictions from our random forest model \n",
    "predicted = model_RFC.predict(X_test)\n",
    "\n",
    "# Predict probabilities\n",
    "probs = model_RFC.predict_proba(X_test)\n",
    "\n",
    "# Print the ROC curve, classification report and confusion matrix\n",
    "print('ROC Score:')\n",
    "print(roc_auc_score(y_test, probs[:,1]))\n",
    "print('\\nClassification Report:')\n",
    "print(classification_report(y_test, predicted))\n",
    "print('\\nConfusion Matrix:')\n",
    "print(confusion_matrix(y_test, predicted))"
   ]
  },
  {
   "cell_type": "code",
   "execution_count": 74,
   "metadata": {},
   "outputs": [
    {
     "name": "stdout",
     "output_type": "stream",
     "text": [
      "ROC Score:\n",
      "0.9637868080156683\n",
      "\n",
      "Classification Report:\n",
      "              precision    recall  f1-score   support\n",
      "\n",
      "         0.0       1.00      1.00      1.00    113724\n",
      "         1.0       0.90      0.82      0.86       199\n",
      "\n",
      "    accuracy                           1.00    113923\n",
      "   macro avg       0.95      0.91      0.93    113923\n",
      "weighted avg       1.00      1.00      1.00    113923\n",
      "\n",
      "\n",
      "Confusion Matrix:\n",
      "[[113706     18]\n",
      " [    35    164]]\n"
     ]
    }
   ],
   "source": [
    "model_EC = ExtraTreesClassifier(n_estimators=100)\n",
    "model_EC.fit(X_resampled, y_resampled)\n",
    "\n",
    "# Obtain the predictions from our random forest model \n",
    "predicted = model_EC.predict(X_test)\n",
    "\n",
    "# Predict probabilities\n",
    "probs = model_EC.predict_proba(X_test)\n",
    "\n",
    "# Print the ROC curve, classification report and confusion matrix\n",
    "print('ROC Score:')\n",
    "print(roc_auc_score(y_test, probs[:,1]))\n",
    "print('\\nClassification Report:')\n",
    "print(classification_report(y_test, predicted))\n",
    "print('\\nConfusion Matrix:')\n",
    "print(confusion_matrix(y_test, predicted))"
   ]
  },
  {
   "cell_type": "markdown",
   "metadata": {},
   "source": [
    "## Modeling without oversampling"
   ]
  },
  {
   "cell_type": "code",
   "execution_count": 10,
   "metadata": {},
   "outputs": [],
   "source": [
    "from imblearn.over_sampling import SMOTE\n",
    "\n",
    "# Split into train and test\n",
    "X_train, X_test, y_train, y_test = train_test_split(data_X, data_Y, train_size=0.8, random_state=0)"
   ]
  },
  {
   "cell_type": "code",
   "execution_count": 80,
   "metadata": {},
   "outputs": [
    {
     "name": "stdout",
     "output_type": "stream",
     "text": [
      ">DTREE 0.754 (0.045)\n"
     ]
    }
   ],
   "source": [
    "i=0\n",
    "\n",
    "# evaluate the model and store results\n",
    "scores = evaluate_model(X_train, y_train, models[i])\n",
    "results.append(scores)\n",
    "\n",
    "# summarize performance\n",
    "print('>%s %.3f (%.3f)' % (names[i], np.mean(scores), np.std(scores)))"
   ]
  },
  {
   "cell_type": "code",
   "execution_count": 81,
   "metadata": {},
   "outputs": [
    {
     "name": "stdout",
     "output_type": "stream",
     "text": [
      ">KNN 0.865 (0.047)\n"
     ]
    }
   ],
   "source": [
    "i=1\n",
    "\n",
    "# evaluate the model and store results\n",
    "scores = evaluate_model(X_train, y_train, models[i])\n",
    "results.append(scores)\n",
    "\n",
    "# summarize performance\n",
    "print('>%s %.3f (%.3f)' % (names[i], np.mean(scores), np.std(scores)))"
   ]
  },
  {
   "cell_type": "code",
   "execution_count": 82,
   "metadata": {},
   "outputs": [
    {
     "name": "stdout",
     "output_type": "stream",
     "text": [
      ">RF 0.853 (0.048)\n"
     ]
    }
   ],
   "source": [
    "i=2\n",
    "\n",
    "# evaluate the model and store results\n",
    "scores = evaluate_model(X_train, y_train, models[i])\n",
    "results.append(scores)\n",
    "\n",
    "# summarize performance\n",
    "print('>%s %.3f (%.3f)' % (names[i], np.mean(scores), np.std(scores)))"
   ]
  },
  {
   "cell_type": "code",
   "execution_count": 83,
   "metadata": {},
   "outputs": [
    {
     "name": "stdout",
     "output_type": "stream",
     "text": [
      ">ET 0.860 (0.051)\n"
     ]
    }
   ],
   "source": [
    "i=3\n",
    "\n",
    "# evaluate the model and store results\n",
    "scores = evaluate_model(X_train, y_train, models[i])\n",
    "results.append(scores)\n",
    "\n",
    "# summarize performance\n",
    "print('>%s %.3f (%.3f)' % (names[i], np.mean(scores), np.std(scores)))"
   ]
  },
  {
   "cell_type": "code",
   "execution_count": 12,
   "metadata": {},
   "outputs": [
    {
     "name": "stdout",
     "output_type": "stream",
     "text": [
      "Skiped this one because it was taking a lot of time to complete\n"
     ]
    }
   ],
   "source": [
    "i=4\n",
    "\n",
    "# evaluate the model and store results\n",
    "#scores = evaluate_model(X_train, y_train, models[i])\n",
    "#results.append(scores)\n",
    "\n",
    "# summarize performance\n",
    "#print('>%s %.3f (%.3f)' % (names[i], np.mean(scores), np.std(scores)))\n",
    "print(\"Skiped this one because it was taking a lot of time to complete\")"
   ]
  },
  {
   "cell_type": "markdown",
   "metadata": {},
   "source": [
    "### Perform Prediction and evaluate result"
   ]
  },
  {
   "cell_type": "code",
   "execution_count": 87,
   "metadata": {},
   "outputs": [
    {
     "name": "stdout",
     "output_type": "stream",
     "text": [
      "ROC Score:\n",
      "0.9057471398465008\n",
      "\n",
      "Classification Report:\n",
      "              precision    recall  f1-score   support\n",
      "\n",
      "         0.0       1.00      1.00      1.00     56861\n",
      "         1.0       0.79      0.81      0.80       101\n",
      "\n",
      "    accuracy                           1.00     56962\n",
      "   macro avg       0.89      0.91      0.90     56962\n",
      "weighted avg       1.00      1.00      1.00     56962\n",
      "\n",
      "\n",
      "Confusion Matrix:\n",
      "[[56839    22]\n",
      " [   19    82]]\n"
     ]
    }
   ],
   "source": [
    "model_DT = DecisionTreeClassifier()\n",
    "model_DT.fit(X_train, y_train)\n",
    "\n",
    "# Obtain the predictions from our random forest model \n",
    "predicted = model_DT.predict(X_test)\n",
    "\n",
    "# Predict probabilities\n",
    "probs = model_DT.predict_proba(X_test)\n",
    "\n",
    "# Print the ROC curve, classification report and confusion matrix\n",
    "print('ROC Score:')\n",
    "print(roc_auc_score(y_test, probs[:,1]))\n",
    "print('\\nClassification Report:')\n",
    "print(classification_report(y_test, predicted))\n",
    "print('\\nConfusion Matrix:')\n",
    "print(confusion_matrix(y_test, predicted))"
   ]
  },
  {
   "cell_type": "code",
   "execution_count": 88,
   "metadata": {},
   "outputs": [
    {
     "name": "stdout",
     "output_type": "stream",
     "text": [
      "ROC Score:\n",
      "0.9256089323956753\n",
      "\n",
      "Classification Report:\n",
      "              precision    recall  f1-score   support\n",
      "\n",
      "         0.0       1.00      1.00      1.00     56861\n",
      "         1.0       0.90      0.80      0.85       101\n",
      "\n",
      "    accuracy                           1.00     56962\n",
      "   macro avg       0.95      0.90      0.92     56962\n",
      "weighted avg       1.00      1.00      1.00     56962\n",
      "\n",
      "\n",
      "Confusion Matrix:\n",
      "[[56852     9]\n",
      " [   20    81]]\n"
     ]
    }
   ],
   "source": [
    "# define model to evaluate\n",
    "model = KNeighborsClassifier()\n",
    "# scale, then fit model\n",
    "pipeline = Pipeline(steps=[('s',StandardScaler()), ('m',model)])\n",
    "\n",
    "pipeline.fit(X_train, y_train)\n",
    "\n",
    "# Obtain the predictions from our random forest model \n",
    "predicted = pipeline.predict(X_test)\n",
    "\n",
    "# Predict probabilities\n",
    "probs = pipeline.predict_proba(X_test)\n",
    "\n",
    "# Print the ROC curve, classification report and confusion matrix\n",
    "print('ROC Score:')\n",
    "print(roc_auc_score(y_test, probs[:,1]))\n",
    "print('\\nClassification Report:')\n",
    "print(classification_report(y_test, predicted))\n",
    "print('\\nConfusion Matrix:')\n",
    "print(confusion_matrix(y_test, predicted))"
   ]
  },
  {
   "cell_type": "code",
   "execution_count": 13,
   "metadata": {},
   "outputs": [
    {
     "name": "stdout",
     "output_type": "stream",
     "text": [
      "Skiped this one because it was taking a lot of time to complete\n"
     ]
    }
   ],
   "source": [
    "#model_BC = BaggingClassifier(n_estimators=100)\n",
    "#model_BC.fit(X_train, y_train)\n",
    "\n",
    "# Obtain the predictions from our random forest model \n",
    "#predicted = model_BC.predict(X_test)\n",
    "\n",
    "# Predict probabilities\n",
    "#probs = model_BC.predict_proba(X_test)\n",
    "\n",
    "# Print the ROC curve, classification report and confusion matrix\n",
    "#print('ROC Score:')\n",
    "#print(roc_auc_score(y_test, probs[:,1]))\n",
    "#print('\\nClassification Report:')\n",
    "#print(classification_report(y_test, predicted))\n",
    "#print('\\nConfusion Matrix:')\n",
    "#print(confusion_matrix(y_test, predicted))\n",
    "print(\"Skiped this one because it was taking a lot of time to complete\")"
   ]
  },
  {
   "cell_type": "code",
   "execution_count": 89,
   "metadata": {},
   "outputs": [
    {
     "name": "stdout",
     "output_type": "stream",
     "text": [
      "ROC Score:\n",
      "0.9442533215879403\n",
      "\n",
      "Classification Report:\n",
      "              precision    recall  f1-score   support\n",
      "\n",
      "         0.0       1.00      1.00      1.00     56861\n",
      "         1.0       0.94      0.77      0.85       101\n",
      "\n",
      "    accuracy                           1.00     56962\n",
      "   macro avg       0.97      0.89      0.92     56962\n",
      "weighted avg       1.00      1.00      1.00     56962\n",
      "\n",
      "\n",
      "Confusion Matrix:\n",
      "[[56856     5]\n",
      " [   23    78]]\n"
     ]
    }
   ],
   "source": [
    "model_RFC = RandomForestClassifier(n_estimators=100)\n",
    "model_RFC.fit(X_train, y_train)\n",
    "\n",
    "# Obtain the predictions from our random forest model \n",
    "predicted = model_RFC.predict(X_test)\n",
    "\n",
    "# Predict probabilities\n",
    "probs = model_RFC.predict_proba(X_test)\n",
    "\n",
    "# Print the ROC curve, classification report and confusion matrix\n",
    "print('ROC Score:')\n",
    "print(roc_auc_score(y_test, probs[:,1]))\n",
    "print('\\nClassification Report:')\n",
    "print(classification_report(y_test, predicted))\n",
    "print('\\nConfusion Matrix:')\n",
    "print(confusion_matrix(y_test, predicted))"
   ]
  },
  {
   "cell_type": "code",
   "execution_count": 90,
   "metadata": {},
   "outputs": [
    {
     "name": "stdout",
     "output_type": "stream",
     "text": [
      "ROC Score:\n",
      "0.9637172357604378\n",
      "\n",
      "Classification Report:\n",
      "              precision    recall  f1-score   support\n",
      "\n",
      "         0.0       1.00      1.00      1.00     56861\n",
      "         1.0       0.94      0.79      0.86       101\n",
      "\n",
      "    accuracy                           1.00     56962\n",
      "   macro avg       0.97      0.90      0.93     56962\n",
      "weighted avg       1.00      1.00      1.00     56962\n",
      "\n",
      "\n",
      "Confusion Matrix:\n",
      "[[56856     5]\n",
      " [   21    80]]\n"
     ]
    }
   ],
   "source": [
    "model_EC = ExtraTreesClassifier(n_estimators=100)\n",
    "model_EC.fit(X_train, y_train)\n",
    "\n",
    "# Obtain the predictions from our random forest model \n",
    "predicted = model_EC.predict(X_test)\n",
    "\n",
    "# Predict probabilities\n",
    "probs = model_EC.predict_proba(X_test)\n",
    "\n",
    "# Print the ROC curve, classification report and confusion matrix\n",
    "print('ROC Score:')\n",
    "print(roc_auc_score(y_test, probs[:,1]))\n",
    "print('\\nClassification Report:')\n",
    "print(classification_report(y_test, predicted))\n",
    "print('\\nConfusion Matrix:')\n",
    "print(confusion_matrix(y_test, predicted))"
   ]
  },
  {
   "cell_type": "code",
   "execution_count": 40,
   "metadata": {},
   "outputs": [
    {
     "data": {
      "text/html": [
       "<style>\n",
       "table {float:left}\n",
       "</style>\n"
      ],
      "text/plain": [
       "<IPython.core.display.HTML object>"
      ]
     },
     "metadata": {},
     "output_type": "display_data"
    }
   ],
   "source": [
    "%%html\n",
    "<style>\n",
    "table {float:left}\n",
    "</style>"
   ]
  },
  {
   "cell_type": "markdown",
   "metadata": {},
   "source": [
    "## Result Summary"
   ]
  },
  {
   "cell_type": "markdown",
   "metadata": {},
   "source": [
    "### Results from Training Data"
   ]
  },
  {
   "cell_type": "markdown",
   "metadata": {},
   "source": [
    " | Model         | Description | Avg PR-AUC (With Sampling)   | Avg PR-AUC (Without Sampling) \n",
    "| :---           |    :----   |          ---: |          ---: |\n",
    "| Decision Tree Classifier            | Very intuitive and easy to explain but small change in the data can cause a large change in the structure of the decision tree causing instability  | 0.999   | 0.754 |\n",
    "| K Neighbors Classifier    | Easy to implement and understand, but has a major drawback of becoming significantly slows as the size of that data in use grows.        | 1.000      | 0.865 |\n",
    "| Bagging Classifier  | Help reduce variance from models that are might be very accurate, but only on the data they were trained on. Takes a lot of time   | 1.000      | |\n",
    "| Random Forest Classifier | Simple and relatively fast Model. It offers a lot of scope in improving the model’s precision by tuning the hyperparameters and choosing the crucial features.       | 1.000      | 0.853\n",
    "| Extra Tree Classifier | One of the best performing model. This usually allows to reduce the variance of the model a bit more, at the expense of a slightly greater increase in bias:        | 1.000      | 0.860 |\n"
   ]
  },
  {
   "cell_type": "markdown",
   "metadata": {},
   "source": [
    "### Results from Test Data"
   ]
  },
  {
   "cell_type": "markdown",
   "metadata": {},
   "source": [
    " #### From Model with Oversample training data\n",
    " \n",
    " | Model         | ROC Score | True Negetive   | False Positive | False Negative | True Positive\n",
    "| :---           |    ----:  |          ---: |          ---: |         ---: |         ---: |\n",
    "| Decision Tree Classifier  |  0.891| 113533   | 191 | 43|156\n",
    "| K Neighbors Classifier    |  0.904| 113595   | 129 | 40|159\n",
    "| Bagging Classifier        |  0.943| 113669   | 55  | 38|161\n",
    "| Random Forest Classifier  |  0.958| 113701   | 23  | 35|164\n",
    "| Extra Tree Classifier     |  0.963| 113706   | 18  | 35|164\n",
    "\n",
    " #### From Model without Oversample training data\n",
    " \n",
    " | Model         | ROC Score | True Negetive   | False Positive | False Negative | True Positive\n",
    "| :---           |    ----:  |          ---: |          ---: |         ---: |         ---: |\n",
    "| Decision Tree Classifier  |  0.905|    56839|  22| 19| 82\n",
    "| K Neighbors Classifier    |  0.925|    56852|  9| 20| 81\n",
    "| Bagging Classifier        |  |    |  | |\n",
    "| Random Forest Classifier  |  0.944|    56856|  5| 23| 78\n",
    "| Extra Tree Classifier     |  0.963|    56856|  5| 21| 80"
   ]
  },
  {
   "cell_type": "markdown",
   "metadata": {},
   "source": [
    "##  Model Summary\n",
    "\n",
    "Here are the basis of the selection and feedback based on execution result.\n",
    "\n",
    "**1. Decision Tree Classifier** Decision Tree solves the problem of machine learning by transforming the data into tree representation. requires less effort for data preparation during pre-processing and does not require normalization of data. Missing values in the data also does not affect the process of building decision tree to any considerable extent. It was one of the fast performing model and accuracy was good still it was worst performing model among other based on accuracy.\n",
    "\n",
    "**2. K-Nearest Neighbor classifier**\n",
    "KNN was a good simple model to try because it ‘trains’ very quickly by offsetting most of the computation to the actual testing portion. It is Flexible to feature/distance choices and naturally handles multi-class cases. Additionally it is relatively intuitive how the model works.  It was one of the good performing model.\n",
    "\n",
    "**3. Random Forest classifier**\n",
    "Random forest algorithm can be used for both classifications and regression task. It provides higher accuracy and handles the missing values and maintain the accuracy of a large proportion of data. If there are more trees, it won’t allow overfitting trees in the model and has the power to handle a large data set with higher dimensionality.\n",
    "It was one of the good performing model and also it performed fast as compared to KNN.\n",
    "\n",
    "**4. Bagging Classifier** Bagging takes the advantage of ensemble learning wherein multiple weak learner outperform a single strong learner. It helps reduce variance and thus helps us avoid overfitting. It was taking a lot of time to train the model so I could not execute and get evaluation matric for model without oversampling. \n",
    "\n",
    "**5. Extra Tree Classifier** ExtraTreesClassifier is an ensemble learning method fundamentally based on decision trees. ExtraTreesClassifier, like RandomForest, randomizes certain decisions and subsets of data to minimize over-learning from the data and overfitting. This method has yielded state-of-the-art results in several high-dimensional complex problems. It was best performing model.\n",
    "\n",
    "Extra Tree Classifier works best and also works good with new data. KNN, Random-Forest & Bagging are other models that performed well."
   ]
  },
  {
   "cell_type": "code",
   "execution_count": null,
   "metadata": {},
   "outputs": [],
   "source": []
  }
 ],
 "metadata": {
  "hide_input": false,
  "kernelspec": {
   "display_name": "Python 3",
   "language": "python",
   "name": "python3"
  },
  "language_info": {
   "codemirror_mode": {
    "name": "ipython",
    "version": 3
   },
   "file_extension": ".py",
   "mimetype": "text/x-python",
   "name": "python",
   "nbconvert_exporter": "python",
   "pygments_lexer": "ipython3",
   "version": "3.7.3"
  }
 },
 "nbformat": 4,
 "nbformat_minor": 2
}
